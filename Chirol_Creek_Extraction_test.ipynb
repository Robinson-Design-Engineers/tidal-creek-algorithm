{
 "cells": [
  {
   "cell_type": "code",
   "execution_count": 3,
   "metadata": {},
   "outputs": [],
   "source": [
    "# standard loads\n",
    "import numpy as np\n",
    "import matplotlib.pyplot as plt\n",
    "import pandas as pd\n",
    "import os\n",
    "import glob\n",
    "\n",
    "# import specific algorithm functions\n",
    "from input_formatting import * # * imports all functions from the referenced .py file\n",
    "\n",
    "# %config InlineBackend.figure_format='retina' # hig-res plots for a Retina display, uncomment while working"
   ]
  },
  {
   "cell_type": "code",
   "execution_count": 11,
   "metadata": {},
   "outputs": [
    {
     "name": "stdout",
     "output_type": "stream",
     "text": [
      "Elevation Files:\n",
      "ncols: 392.0\n",
      "nrows: 401.0\n",
      "x corner: 704509.4\n",
      "y corner: 107140.8\n",
      "cell size: 1.0\n",
      "NoData value: -340282346638528859811704183484516925440.0\n",
      "File was saved as:  INPUTS/av_DEM_converted_m_fillNoData.h5\n",
      "Metadata file was saved as:  INPUTS/av_DEM_converted_m_fillNoData_metadata.h5\n",
      "\n",
      "Slope Files:\n",
      "ncols: 392.0\n",
      "nrows: 401.0\n",
      "x corner: 704509.4\n",
      "y corner: 107140.8\n",
      "cell size: 1.0\n",
      "NoData value: -9999.0\n",
      "File was saved as:  INPUTS/av_slope_degrees_fillNoData.h5\n",
      "Metadata file was saved as:  INPUTS/av_slope_degrees_fillNoData_metadata.h5\n"
     ]
    }
   ],
   "source": [
    "# input_formatting\n",
    "# formats elevation and slope raster ascii files in to .h5\n",
    "# requires user manual input for filename of elevation and slope\n",
    "\n",
    "print('Elevation Files:')\n",
    "# Change file names for specific site - i.e., filename = 'INPUTS/blahblah_elev.txt' or 'INPUTS/blahblah_slope.txt'\n",
    "filename_elev = 'INPUTS/av_DEM_converted_m_fillNoData.asc' # user input\n",
    "filename_out_elev, filename_out_meta_elev = input_formatting(filename_elev)\n",
    "print('File was saved as: ', filename_out_elev)\n",
    "print('Metadata file was saved as: ', filename_out_meta_elev)\n",
    "\n",
    "print('')\n",
    "\n",
    "print('Slope Files:')\n",
    "filename_slope = 'INPUTS/av_slope_degrees_fillNoData.asc' # user input\n",
    "filename_out_slope, filename_out_meta_slope = input_formatting(filename_slope)\n",
    "print('File was saved as: ', filename_out_slope)\n",
    "print('Metadata file was saved as: ', filename_out_meta_slope)"
   ]
  },
  {
   "cell_type": "code",
   "execution_count": null,
   "metadata": {},
   "outputs": [],
   "source": []
  }
 ],
 "metadata": {
  "kernelspec": {
   "display_name": "Python 3",
   "language": "python",
   "name": "python3"
  },
  "language_info": {
   "codemirror_mode": {
    "name": "ipython",
    "version": 3
   },
   "file_extension": ".py",
   "mimetype": "text/x-python",
   "name": "python",
   "nbconvert_exporter": "python",
   "pygments_lexer": "ipython3",
   "version": "3.12.4"
  }
 },
 "nbformat": 4,
 "nbformat_minor": 2
}
